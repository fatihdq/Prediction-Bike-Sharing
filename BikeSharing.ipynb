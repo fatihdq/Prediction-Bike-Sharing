{
 "cells": [
  {
   "cell_type": "markdown",
   "id": "shared-detector",
   "metadata": {},
   "source": [
    "# Bike Sharing Project\n",
    "##### this project is to predict how many demands for using a bike sharing facility in a city"
   ]
  },
  {
   "cell_type": "markdown",
   "id": "intelligent-travel",
   "metadata": {},
   "source": [
    "##### Step by step to solve this project\n",
    "1. Read the data\n",
    "2. Prelim analysis and feature selection\n",
    "3. Data visualisation and Check multiple linear regression assumptions\n",
    "4. Drop irrelevant feature\n",
    "5. Modify new features\n",
    "6. Create dummies variables for categorical features\n",
    "7. Create split dataset\n",
    "8. Training and score model"
   ]
  },
  {
   "cell_type": "markdown",
   "id": "quality-better",
   "metadata": {},
   "source": [
    "## 1. Import library"
   ]
  },
  {
   "cell_type": "code",
   "execution_count": 286,
   "id": "conservative-congress",
   "metadata": {},
   "outputs": [],
   "source": [
    "import pandas as pd\n",
    "import numpy as np\n",
    "import matplotlib.pyplot as plt\n",
    "import math\n",
    "from sklearn.linear_model import LinearRegression\n",
    "from sklearn.metrics import mean_squared_error"
   ]
  },
  {
   "cell_type": "code",
   "execution_count": 287,
   "id": "played-column",
   "metadata": {},
   "outputs": [
    {
     "data": {
      "text/html": [
       "<div>\n",
       "<style scoped>\n",
       "    .dataframe tbody tr th:only-of-type {\n",
       "        vertical-align: middle;\n",
       "    }\n",
       "\n",
       "    .dataframe tbody tr th {\n",
       "        vertical-align: top;\n",
       "    }\n",
       "\n",
       "    .dataframe thead th {\n",
       "        text-align: right;\n",
       "    }\n",
       "</style>\n",
       "<table border=\"1\" class=\"dataframe\">\n",
       "  <thead>\n",
       "    <tr style=\"text-align: right;\">\n",
       "      <th></th>\n",
       "      <th>index</th>\n",
       "      <th>date</th>\n",
       "      <th>season</th>\n",
       "      <th>year</th>\n",
       "      <th>month</th>\n",
       "      <th>hour</th>\n",
       "      <th>holiday</th>\n",
       "      <th>weekday</th>\n",
       "      <th>workingday</th>\n",
       "      <th>weather</th>\n",
       "      <th>temp</th>\n",
       "      <th>atemp</th>\n",
       "      <th>humidity</th>\n",
       "      <th>windspeed</th>\n",
       "      <th>casual</th>\n",
       "      <th>registered</th>\n",
       "      <th>demand</th>\n",
       "    </tr>\n",
       "  </thead>\n",
       "  <tbody>\n",
       "    <tr>\n",
       "      <th>0</th>\n",
       "      <td>1</td>\n",
       "      <td>01-01-2011</td>\n",
       "      <td>1</td>\n",
       "      <td>0</td>\n",
       "      <td>1</td>\n",
       "      <td>0</td>\n",
       "      <td>0</td>\n",
       "      <td>6</td>\n",
       "      <td>0</td>\n",
       "      <td>1</td>\n",
       "      <td>0.24</td>\n",
       "      <td>0.2879</td>\n",
       "      <td>0.81</td>\n",
       "      <td>0.0</td>\n",
       "      <td>3</td>\n",
       "      <td>13</td>\n",
       "      <td>16</td>\n",
       "    </tr>\n",
       "    <tr>\n",
       "      <th>1</th>\n",
       "      <td>2</td>\n",
       "      <td>01-01-2011</td>\n",
       "      <td>1</td>\n",
       "      <td>0</td>\n",
       "      <td>1</td>\n",
       "      <td>1</td>\n",
       "      <td>0</td>\n",
       "      <td>6</td>\n",
       "      <td>0</td>\n",
       "      <td>1</td>\n",
       "      <td>0.22</td>\n",
       "      <td>0.2727</td>\n",
       "      <td>0.80</td>\n",
       "      <td>0.0</td>\n",
       "      <td>8</td>\n",
       "      <td>32</td>\n",
       "      <td>40</td>\n",
       "    </tr>\n",
       "    <tr>\n",
       "      <th>2</th>\n",
       "      <td>3</td>\n",
       "      <td>01-01-2011</td>\n",
       "      <td>1</td>\n",
       "      <td>0</td>\n",
       "      <td>1</td>\n",
       "      <td>2</td>\n",
       "      <td>0</td>\n",
       "      <td>6</td>\n",
       "      <td>0</td>\n",
       "      <td>1</td>\n",
       "      <td>0.22</td>\n",
       "      <td>0.2727</td>\n",
       "      <td>0.80</td>\n",
       "      <td>0.0</td>\n",
       "      <td>5</td>\n",
       "      <td>27</td>\n",
       "      <td>32</td>\n",
       "    </tr>\n",
       "    <tr>\n",
       "      <th>3</th>\n",
       "      <td>4</td>\n",
       "      <td>01-01-2011</td>\n",
       "      <td>1</td>\n",
       "      <td>0</td>\n",
       "      <td>1</td>\n",
       "      <td>3</td>\n",
       "      <td>0</td>\n",
       "      <td>6</td>\n",
       "      <td>0</td>\n",
       "      <td>1</td>\n",
       "      <td>0.24</td>\n",
       "      <td>0.2879</td>\n",
       "      <td>0.75</td>\n",
       "      <td>0.0</td>\n",
       "      <td>3</td>\n",
       "      <td>10</td>\n",
       "      <td>13</td>\n",
       "    </tr>\n",
       "    <tr>\n",
       "      <th>4</th>\n",
       "      <td>5</td>\n",
       "      <td>01-01-2011</td>\n",
       "      <td>1</td>\n",
       "      <td>0</td>\n",
       "      <td>1</td>\n",
       "      <td>4</td>\n",
       "      <td>0</td>\n",
       "      <td>6</td>\n",
       "      <td>0</td>\n",
       "      <td>1</td>\n",
       "      <td>0.24</td>\n",
       "      <td>0.2879</td>\n",
       "      <td>0.75</td>\n",
       "      <td>0.0</td>\n",
       "      <td>0</td>\n",
       "      <td>1</td>\n",
       "      <td>1</td>\n",
       "    </tr>\n",
       "  </tbody>\n",
       "</table>\n",
       "</div>"
      ],
      "text/plain": [
       "   index        date  season  year  month  hour  holiday  weekday  workingday  \\\n",
       "0      1  01-01-2011       1     0      1     0        0        6           0   \n",
       "1      2  01-01-2011       1     0      1     1        0        6           0   \n",
       "2      3  01-01-2011       1     0      1     2        0        6           0   \n",
       "3      4  01-01-2011       1     0      1     3        0        6           0   \n",
       "4      5  01-01-2011       1     0      1     4        0        6           0   \n",
       "\n",
       "   weather  temp   atemp  humidity  windspeed  casual  registered  demand  \n",
       "0        1  0.24  0.2879      0.81        0.0       3          13      16  \n",
       "1        1  0.22  0.2727      0.80        0.0       8          32      40  \n",
       "2        1  0.22  0.2727      0.80        0.0       5          27      32  \n",
       "3        1  0.24  0.2879      0.75        0.0       3          10      13  \n",
       "4        1  0.24  0.2879      0.75        0.0       0           1       1  "
      ]
     },
     "execution_count": 287,
     "metadata": {},
     "output_type": "execute_result"
    }
   ],
   "source": [
    "bike = pd.read_csv('hour.csv')\n",
    "bike.head()"
   ]
  },
  {
   "cell_type": "markdown",
   "id": "special-villa",
   "metadata": {},
   "source": [
    "## 2. Prelim analysis and feature selection"
   ]
  },
  {
   "cell_type": "markdown",
   "id": "legitimate-jersey",
   "metadata": {},
   "source": [
    "#### Understanding data"
   ]
  },
  {
   "cell_type": "markdown",
   "id": "third-embassy",
   "metadata": {},
   "source": [
    "that dataset have 2 type variable (Descrete : date, season, year, month, hour, holiday, weekday, working day, and weather) (Countinous: tempt, atemp, humidity, windspeed, casual, registered, and demand). But in here we won't to use variable index and date, because varibale date has represented by year, month, and weekdays. we also droping column casual and registered because these are 2 variable if we amount these will be a column demand that we will use as variable dependent"
   ]
  },
  {
   "cell_type": "code",
   "execution_count": 288,
   "id": "valuable-gregory",
   "metadata": {},
   "outputs": [
    {
     "name": "stdout",
     "output_type": "stream",
     "text": [
      "season : [1 2 3 4]\n",
      "year : [0 1]\n",
      "month : [ 1  2  3  4  5  6  7  8  9 10 11 12]\n",
      "hour : [ 0  1  2  3  4  5  6  7  8  9 10 11 12 13 14 15 16 17 18 19 20 21 22 23]\n",
      "holiday : [0 1]\n",
      "weekday : [6 0 1 2 3 4 5]\n",
      "workingday : [0 1]\n",
      "weather : [1 2 3 4]\n"
     ]
    }
   ],
   "source": [
    "bike_copy = bike.copy()\n",
    "bike_prepro = bike_copy.drop(['index','date','casual','registered'],axis=1)\n",
    "\n",
    "print(\"season : \"+ str(bike['season'].unique()))\n",
    "print(\"year : \"+ str(bike['year'].unique()))\n",
    "print(\"month : \"+ str(bike['month'].unique()))\n",
    "print(\"hour : \"+ str(bike['hour'].unique()))\n",
    "print(\"holiday : \"+ str(bike['holiday'].unique()))\n",
    "print(\"weekday : \"+ str(bike['weekday'].unique()))\n",
    "print(\"workingday : \"+ str(bike['workingday'].unique()))\n",
    "print(\"weather : \"+ str(bike['weather'].unique()))"
   ]
  },
  {
   "cell_type": "markdown",
   "id": "alternative-lebanon",
   "metadata": {},
   "source": [
    "##### The following is decoding of the descrete variables\n",
    "- Season : 1. Spring 2. Summer 3. Fall 4. Winter\n",
    "- Year : first and second year\n",
    "- Month : 1 - 12 , January - December\n",
    "- Hour : 0 - 23, hour in single day\n",
    "- Holiday : 1. Yes 0. No\n",
    "- weekday : 0-6, sunday-saturday\n",
    "- workingday: 0.No 1.Yes\n",
    "- weather : \n",
    "  1. Clear, Few clouds, Partly cloudy\n",
    "  2. Mist + Cloudy, Mist+Broken clouds, Mist+Few cloud, Mist\n",
    "  3. Light Snow, Light Rain + Tunderstrom + Scattered clouds, Light Rain + Scattered clouds\n",
    "  4. Heavy Rain + Ice Pallets + Thunderstrom + Mist, Snow + Fog"
   ]
  },
  {
   "cell_type": "markdown",
   "id": "quick-above",
   "metadata": {},
   "source": [
    "##### The following is decoding of the continous variables\n",
    "- temp = temperature in the city by detector\n",
    "- atemp = temperature fill like "
   ]
  },
  {
   "cell_type": "markdown",
   "id": "interesting-designation",
   "metadata": {},
   "source": [
    "## 3. Data Visualization and Check multiple linear regression assumptions"
   ]
  },
  {
   "cell_type": "markdown",
   "id": "changing-springer",
   "metadata": {},
   "source": [
    "#### Plotting continous data ( features vs demand )"
   ]
  },
  {
   "cell_type": "code",
   "execution_count": 289,
   "id": "outside-valve",
   "metadata": {},
   "outputs": [
    {
     "data": {
      "image/png": "[encoded data removed]",
      "text/plain": [
       "<Figure size 720x504 with 4 Axes>"
      ]
     },
     "metadata": {
      "needs_background": "light"
     },
     "output_type": "display_data"
    }
   ],
   "source": [
    "plt.rcParams['figure.figsize']= (10,7)\n",
    "\n",
    "plt.subplot(2,2,1)\n",
    "plt.title(\"temp vs demand\")\n",
    "plt.xlabel(\"temp\")\n",
    "plt.ylabel(\"demand\")\n",
    "plt.scatter(bike_prepro['temp'],bike_prepro['demand'],color=\"#219ebc\", s=2)\n",
    "\n",
    "plt.subplot(2,2,2)\n",
    "plt.title(\"atemp vs demand\")\n",
    "plt.xlabel(\"atemp\")\n",
    "plt.ylabel(\"demand\")\n",
    "plt.scatter(bike_prepro['atemp'],bike_prepro['demand'],color=\"#023047\", s=2)\n",
    "\n",
    "plt.subplot(2,2,3)\n",
    "plt.title(\"humidity vs demand\")\n",
    "plt.xlabel(\"humidity\")\n",
    "plt.ylabel(\"demand\")\n",
    "plt.scatter(bike_prepro['humidity'],bike_prepro['demand'],color=\"#ffb703\", s=2)\n",
    "\n",
    "plt.subplot(2,2,4)\n",
    "plt.title(\"windspeed vs demand\")\n",
    "plt.xlabel(\"windspeed\")\n",
    "plt.ylabel(\"demand\")\n",
    "plt.scatter(bike_prepro['windspeed'],bike_prepro['demand'],color=\"#fb8500\", s=2)\n",
    "\n",
    "plt.tight_layout()"
   ]
  },
  {
   "cell_type": "markdown",
   "id": "fifteen-municipality",
   "metadata": {},
   "source": [
    "in those plot, we heve new assumption\n",
    "1. temp and demand have a chance pretty good correlation when the temperature goes up, demand will be increased\n",
    "2. atemp and demand have a same correlation with temp and demand.\n",
    "3. windspeed and demand have a chance good negative correlation when the windspeed goes up, demand will be decreased\n",
    "4. humidity and demand suspected don't have correlation"
   ]
  },
  {
   "cell_type": "markdown",
   "id": "precise-right",
   "metadata": {},
   "source": [
    "#### check the features correlation"
   ]
  },
  {
   "cell_type": "code",
   "execution_count": 290,
   "id": "comprehensive-nitrogen",
   "metadata": {
    "scrolled": false
   },
   "outputs": [
    {
     "data": {
      "text/html": [
       "<div>\n",
       "<style scoped>\n",
       "    .dataframe tbody tr th:only-of-type {\n",
       "        vertical-align: middle;\n",
       "    }\n",
       "\n",
       "    .dataframe tbody tr th {\n",
       "        vertical-align: top;\n",
       "    }\n",
       "\n",
       "    .dataframe thead th {\n",
       "        text-align: right;\n",
       "    }\n",
       "</style>\n",
       "<table border=\"1\" class=\"dataframe\">\n",
       "  <thead>\n",
       "    <tr style=\"text-align: right;\">\n",
       "      <th></th>\n",
       "      <th>temp</th>\n",
       "      <th>atemp</th>\n",
       "      <th>humidity</th>\n",
       "      <th>windspeed</th>\n",
       "      <th>demand</th>\n",
       "    </tr>\n",
       "  </thead>\n",
       "  <tbody>\n",
       "    <tr>\n",
       "      <th>temp</th>\n",
       "      <td>1.000000</td>\n",
       "      <td>0.987672</td>\n",
       "      <td>-0.069881</td>\n",
       "      <td>-0.023125</td>\n",
       "      <td>0.404772</td>\n",
       "    </tr>\n",
       "    <tr>\n",
       "      <th>atemp</th>\n",
       "      <td>0.987672</td>\n",
       "      <td>1.000000</td>\n",
       "      <td>-0.051918</td>\n",
       "      <td>-0.062336</td>\n",
       "      <td>0.400929</td>\n",
       "    </tr>\n",
       "    <tr>\n",
       "      <th>humidity</th>\n",
       "      <td>-0.069881</td>\n",
       "      <td>-0.051918</td>\n",
       "      <td>1.000000</td>\n",
       "      <td>-0.290105</td>\n",
       "      <td>-0.322911</td>\n",
       "    </tr>\n",
       "    <tr>\n",
       "      <th>windspeed</th>\n",
       "      <td>-0.023125</td>\n",
       "      <td>-0.062336</td>\n",
       "      <td>-0.290105</td>\n",
       "      <td>1.000000</td>\n",
       "      <td>0.093234</td>\n",
       "    </tr>\n",
       "    <tr>\n",
       "      <th>demand</th>\n",
       "      <td>0.404772</td>\n",
       "      <td>0.400929</td>\n",
       "      <td>-0.322911</td>\n",
       "      <td>0.093234</td>\n",
       "      <td>1.000000</td>\n",
       "    </tr>\n",
       "  </tbody>\n",
       "</table>\n",
       "</div>"
      ],
      "text/plain": [
       "               temp     atemp  humidity  windspeed    demand\n",
       "temp       1.000000  0.987672 -0.069881  -0.023125  0.404772\n",
       "atemp      0.987672  1.000000 -0.051918  -0.062336  0.400929\n",
       "humidity  -0.069881 -0.051918  1.000000  -0.290105 -0.322911\n",
       "windspeed -0.023125 -0.062336 -0.290105   1.000000  0.093234\n",
       "demand     0.404772  0.400929 -0.322911   0.093234  1.000000"
      ]
     },
     "execution_count": 290,
     "metadata": {},
     "output_type": "execute_result"
    }
   ],
   "source": [
    "bike_prepro[['temp','atemp','humidity','windspeed','demand']].corr()"
   ]
  },
  {
   "cell_type": "markdown",
   "id": "running-yellow",
   "metadata": {},
   "source": [
    "based on correlation coefficiet value, we summarize to drop atemp and windspeed, because atemp and temp have a near perfect linear correlation that definitely the multicore linearity , and windspeed has a low correlation coefficiet value with demand or it does not have a linear correlation."
   ]
  },
  {
   "cell_type": "markdown",
   "id": "ideal-uruguay",
   "metadata": {},
   "source": [
    "#### Plotting descrete data ( features vs demand )"
   ]
  },
  {
   "cell_type": "code",
   "execution_count": 291,
   "id": "sensitive-florist",
   "metadata": {},
   "outputs": [
    {
     "data": {
      "image/png": "[encoded data removed]",
      "text/plain": [
       "<Figure size 720x504 with 8 Axes>"
      ]
     },
     "metadata": {
      "needs_background": "light"
     },
     "output_type": "display_data"
    }
   ],
   "source": [
    "plt.rcParams['figure.figsize']= (10,7)\n",
    "\n",
    "plt.subplot(3,3,1)\n",
    "plt.title(\"season vs demand\")\n",
    "plt.xlabel(\"season\")\n",
    "plt.ylabel(\"demand\")\n",
    "cat1 = bike_prepro.groupby(['season'],as_index=False).demand.mean()\n",
    "plt.bar(cat1['season'],cat1['demand'],color=\"#219ebc\")\n",
    "\n",
    "plt.subplot(3,3,2)\n",
    "plt.title(\"year vs demand\")\n",
    "plt.xlabel(\"year\")\n",
    "plt.ylabel(\"demand\")\n",
    "cat2 = bike_prepro.groupby(['year'],as_index=False).demand.mean()\n",
    "plt.bar(cat2['year'],cat2['demand'],color=\"#023047\")\n",
    "\n",
    "plt.subplot(3,3,3)\n",
    "plt.title(\"month vs demand\")\n",
    "plt.xlabel(\"month\")\n",
    "plt.ylabel(\"demand\")\n",
    "cat3 = bike_prepro.groupby(['month'],as_index=False).demand.mean()\n",
    "plt.bar(cat3['month'],cat3['demand'],color=\"#ffb703\")\n",
    "\n",
    "plt.subplot(3,3,4)\n",
    "plt.title(\"hour vs demand\")\n",
    "plt.xlabel(\"hour\")\n",
    "plt.ylabel(\"demand\")\n",
    "cat4 = bike_prepro.groupby(['hour'],as_index=False).demand.mean()\n",
    "plt.bar(cat4['hour'],cat4['demand'],color=\"#fb8500\")\n",
    "\n",
    "plt.subplot(3,3,5)\n",
    "plt.title(\"holiday vs demand\")\n",
    "plt.xlabel(\"holiday\")\n",
    "plt.ylabel(\"demand\")\n",
    "cat5 = bike_prepro.groupby(['holiday'],as_index=False).demand.mean()\n",
    "plt.bar(cat5['holiday'],cat5['demand'],color=\"#219ebc\")\n",
    "\n",
    "plt.subplot(3,3,6)\n",
    "plt.title(\"weekday vs demand\")\n",
    "plt.xlabel(\"weekday\")\n",
    "plt.ylabel(\"demand\")\n",
    "cat6 = bike_prepro.groupby(['weekday'],as_index=False).demand.mean()\n",
    "plt.bar(cat6['weekday'],cat6['demand'],color=\"#023047\")\n",
    "\n",
    "plt.subplot(3,3,7)\n",
    "plt.title(\"workingday vs demand\")\n",
    "plt.xlabel(\"workingday\")\n",
    "plt.ylabel(\"demand\")\n",
    "cat7 = bike_prepro.groupby(['workingday'],as_index=False).demand.mean()\n",
    "plt.bar(cat7['workingday'],cat7['demand'],color=\"#ffb703\")\n",
    "\n",
    "plt.subplot(3,3,8)\n",
    "plt.title(\"weather vs demand\")\n",
    "plt.xlabel(\"weather\")\n",
    "plt.ylabel(\"demand\")\n",
    "cat8 = bike_prepro.groupby(['weather'],as_index=False).demand.mean()\n",
    "plt.bar(cat8['weather'],cat8['demand'],color=\"#fb8500\")\n",
    "\n",
    "plt.tight_layout()"
   ]
  },
  {
   "cell_type": "markdown",
   "id": "comprehensive-newport",
   "metadata": {},
   "source": [
    "variables which have a good variation depending on demand are season, yaar, month, hour, holiday, and weather. weekday and working will drop from the feature because there are hardly any change in the demand or have a low variation value of demand. We will also drop the year variable because it is limited to only 2 year."
   ]
  },
  {
   "cell_type": "markdown",
   "id": "developing-charity",
   "metadata": {},
   "source": [
    "#### Check of outliers"
   ]
  },
  {
   "cell_type": "code",
   "execution_count": 292,
   "id": "practical-material",
   "metadata": {},
   "outputs": [
    {
     "data": {
      "text/plain": [
       "count    17379.000000\n",
       "mean       189.463088\n",
       "std        181.387599\n",
       "min          1.000000\n",
       "25%         40.000000\n",
       "50%        142.000000\n",
       "75%        281.000000\n",
       "max        977.000000\n",
       "Name: demand, dtype: float64"
      ]
     },
     "execution_count": 292,
     "metadata": {},
     "output_type": "execute_result"
    }
   ],
   "source": [
    "bike_prepro['demand'].describe()"
   ]
  },
  {
   "cell_type": "code",
   "execution_count": 293,
   "id": "ranging-solution",
   "metadata": {},
   "outputs": [
    {
     "data": {
      "text/plain": [
       "0.00      1.00\n",
       "0.05      5.00\n",
       "0.10      9.00\n",
       "0.15     16.00\n",
       "0.90    451.20\n",
       "0.95    563.10\n",
       "0.99    782.22\n",
       "1.00    977.00\n",
       "Name: demand, dtype: float64"
      ]
     },
     "execution_count": 293,
     "metadata": {},
     "output_type": "execute_result"
    }
   ],
   "source": [
    "bike_prepro['demand'].quantile([0,0.05,0.10,0.15,0.90,0.95,0.99,1])"
   ]
  },
  {
   "cell_type": "markdown",
   "id": "elegant-instrumentation",
   "metadata": {},
   "source": [
    "#### Check autocorrelation of demand"
   ]
  },
  {
   "cell_type": "code",
   "execution_count": 294,
   "id": "italian-comment",
   "metadata": {},
   "outputs": [
    {
     "data": {
      "text/plain": [
       "(array([-12, -11, -10,  -9,  -8,  -7,  -6,  -5,  -4,  -3,  -2,  -1,   0,\n",
       "          1,   2,   3,   4,   5,   6,   7,   8,   9,  10,  11,  12]),\n",
       " array([0.45474893, 0.4704974 , 0.49623   , 0.49404252, 0.46796116,\n",
       "        0.47732234, 0.52675974, 0.5914597 , 0.6520183 , 0.71519834,\n",
       "        0.8059134 , 0.9253132 , 1.        , 0.9253132 , 0.8059134 ,\n",
       "        0.71519834, 0.6520183 , 0.5914597 , 0.52675974, 0.47732234,\n",
       "        0.46796116, 0.49404252, 0.49623   , 0.4704974 , 0.45474893],\n",
       "       dtype=float32),\n",
       " <matplotlib.collections.LineCollection at 0x2354888a940>,\n",
       " <matplotlib.lines.Line2D at 0x2354888a910>)"
      ]
     },
     "execution_count": 294,
     "metadata": {},
     "output_type": "execute_result"
    },
    {
     "data": {
      "image/png": "[encoded data removed]",
      "text/plain": [
       "<Figure size 720x504 with 1 Axes>"
      ]
     },
     "metadata": {
      "needs_background": "light"
     },
     "output_type": "display_data"
    }
   ],
   "source": [
    "acor_demand = pd.to_numeric(bike_prepro['demand'],downcast='float')\n",
    "plt.acorr(acor_demand,maxlags=12)"
   ]
  },
  {
   "cell_type": "markdown",
   "id": "twenty-headline",
   "metadata": {},
   "source": [
    "We suspected, it does have a very high autocorrelation of the five previous values for the demand feature. based on the autocorrelation plot, we will use top 4 lines that are significantly high, and we will make sense to use them"
   ]
  },
  {
   "cell_type": "markdown",
   "id": "future-blink",
   "metadata": {},
   "source": [
    "#### Check dependent variable"
   ]
  },
  {
   "cell_type": "code",
   "execution_count": 295,
   "id": "patent-webster",
   "metadata": {},
   "outputs": [
    {
     "data": {
      "text/plain": [
       "<AxesSubplot:>"
      ]
     },
     "execution_count": 295,
     "metadata": {},
     "output_type": "execute_result"
    },
    {
     "data": {
      "image/png": "[encoded data removed]",
      "text/plain": [
       "<Figure size 720x504 with 1 Axes>"
      ]
     },
     "metadata": {
      "needs_background": "light"
     },
     "output_type": "display_data"
    }
   ],
   "source": [
    "bike_prepro['demand'].hist(rwidth = 0.9 ,bins=20)"
   ]
  },
  {
   "cell_type": "markdown",
   "id": "olive-caribbean",
   "metadata": {},
   "source": [
    "there is not normal distribution, resembles very close to the log normal distribution , we will normalize that feature with log function and then see their distribution"
   ]
  },
  {
   "cell_type": "markdown",
   "id": "blessed-bangkok",
   "metadata": {},
   "source": [
    "## 4. Drop irrelevant features"
   ]
  },
  {
   "cell_type": "code",
   "execution_count": 296,
   "id": "satisfactory-drinking",
   "metadata": {},
   "outputs": [
    {
     "data": {
      "text/html": [
       "<div>\n",
       "<style scoped>\n",
       "    .dataframe tbody tr th:only-of-type {\n",
       "        vertical-align: middle;\n",
       "    }\n",
       "\n",
       "    .dataframe tbody tr th {\n",
       "        vertical-align: top;\n",
       "    }\n",
       "\n",
       "    .dataframe thead th {\n",
       "        text-align: right;\n",
       "    }\n",
       "</style>\n",
       "<table border=\"1\" class=\"dataframe\">\n",
       "  <thead>\n",
       "    <tr style=\"text-align: right;\">\n",
       "      <th></th>\n",
       "      <th>season</th>\n",
       "      <th>month</th>\n",
       "      <th>hour</th>\n",
       "      <th>holiday</th>\n",
       "      <th>weather</th>\n",
       "      <th>temp</th>\n",
       "      <th>humidity</th>\n",
       "      <th>demand</th>\n",
       "    </tr>\n",
       "  </thead>\n",
       "  <tbody>\n",
       "    <tr>\n",
       "      <th>0</th>\n",
       "      <td>1</td>\n",
       "      <td>1</td>\n",
       "      <td>0</td>\n",
       "      <td>0</td>\n",
       "      <td>1</td>\n",
       "      <td>0.24</td>\n",
       "      <td>0.81</td>\n",
       "      <td>16</td>\n",
       "    </tr>\n",
       "    <tr>\n",
       "      <th>1</th>\n",
       "      <td>1</td>\n",
       "      <td>1</td>\n",
       "      <td>1</td>\n",
       "      <td>0</td>\n",
       "      <td>1</td>\n",
       "      <td>0.22</td>\n",
       "      <td>0.80</td>\n",
       "      <td>40</td>\n",
       "    </tr>\n",
       "    <tr>\n",
       "      <th>2</th>\n",
       "      <td>1</td>\n",
       "      <td>1</td>\n",
       "      <td>2</td>\n",
       "      <td>0</td>\n",
       "      <td>1</td>\n",
       "      <td>0.22</td>\n",
       "      <td>0.80</td>\n",
       "      <td>32</td>\n",
       "    </tr>\n",
       "    <tr>\n",
       "      <th>3</th>\n",
       "      <td>1</td>\n",
       "      <td>1</td>\n",
       "      <td>3</td>\n",
       "      <td>0</td>\n",
       "      <td>1</td>\n",
       "      <td>0.24</td>\n",
       "      <td>0.75</td>\n",
       "      <td>13</td>\n",
       "    </tr>\n",
       "    <tr>\n",
       "      <th>4</th>\n",
       "      <td>1</td>\n",
       "      <td>1</td>\n",
       "      <td>4</td>\n",
       "      <td>0</td>\n",
       "      <td>1</td>\n",
       "      <td>0.24</td>\n",
       "      <td>0.75</td>\n",
       "      <td>1</td>\n",
       "    </tr>\n",
       "  </tbody>\n",
       "</table>\n",
       "</div>"
      ],
      "text/plain": [
       "   season  month  hour  holiday  weather  temp  humidity  demand\n",
       "0       1      1     0        0        1  0.24      0.81      16\n",
       "1       1      1     1        0        1  0.22      0.80      40\n",
       "2       1      1     2        0        1  0.22      0.80      32\n",
       "3       1      1     3        0        1  0.24      0.75      13\n",
       "4       1      1     4        0        1  0.24      0.75       1"
      ]
     },
     "execution_count": 296,
     "metadata": {},
     "output_type": "execute_result"
    }
   ],
   "source": [
    "bike_prepro = bike_prepro.drop(['year','weekday','workingday','atemp','windspeed'],axis=1)\n",
    "bike_prepro.head()"
   ]
  },
  {
   "cell_type": "markdown",
   "id": "viral-poison",
   "metadata": {},
   "source": [
    "## 5. Modify new feature"
   ]
  },
  {
   "cell_type": "markdown",
   "id": "personal-georgia",
   "metadata": {},
   "source": [
    "#### Log Normalize feature demand"
   ]
  },
  {
   "cell_type": "code",
   "execution_count": 297,
   "id": "informational-amsterdam",
   "metadata": {
    "scrolled": true
   },
   "outputs": [
    {
     "data": {
      "text/plain": [
       "<AxesSubplot:>"
      ]
     },
     "execution_count": 297,
     "metadata": {},
     "output_type": "execute_result"
    },
    {
     "data": {
      "image/png": "[encoded data removed]",
      "text/plain": [
       "<Figure size 720x504 with 1 Axes>"
      ]
     },
     "metadata": {
      "needs_background": "light"
     },
     "output_type": "display_data"
    }
   ],
   "source": [
    "bike_nr = bike_prepro.copy() \n",
    "bike_prepro_nr = bike_nr\n",
    "bike_prepro_nr['demand'] = np.log(bike_nr['demand'])\n",
    "\n",
    "bike_prepro_nr['demand'].hist(rwidth =0.9 , bins=12)"
   ]
  },
  {
   "cell_type": "markdown",
   "id": "informational-proceeding",
   "metadata": {},
   "source": [
    "that histogram of feature demand is fairly normal disributed with log function to convert that"
   ]
  },
  {
   "cell_type": "markdown",
   "id": "informational-basement",
   "metadata": {},
   "source": [
    "#### Solving the problem of Autocorrelation"
   ]
  },
  {
   "cell_type": "markdown",
   "id": "straight-supervision",
   "metadata": {},
   "source": [
    "based on autocorrelation plot, we will use top three line to solving the problem with making three addtional various independent features column to predict the demand"
   ]
  },
  {
   "cell_type": "code",
   "execution_count": 298,
   "id": "dated-square",
   "metadata": {},
   "outputs": [
    {
     "data": {
      "text/html": [
       "<div>\n",
       "<style scoped>\n",
       "    .dataframe tbody tr th:only-of-type {\n",
       "        vertical-align: middle;\n",
       "    }\n",
       "\n",
       "    .dataframe tbody tr th {\n",
       "        vertical-align: top;\n",
       "    }\n",
       "\n",
       "    .dataframe thead th {\n",
       "        text-align: right;\n",
       "    }\n",
       "</style>\n",
       "<table border=\"1\" class=\"dataframe\">\n",
       "  <thead>\n",
       "    <tr style=\"text-align: right;\">\n",
       "      <th></th>\n",
       "      <th>season</th>\n",
       "      <th>month</th>\n",
       "      <th>hour</th>\n",
       "      <th>holiday</th>\n",
       "      <th>weather</th>\n",
       "      <th>temp</th>\n",
       "      <th>humidity</th>\n",
       "      <th>demand</th>\n",
       "      <th>t1</th>\n",
       "      <th>t2</th>\n",
       "    </tr>\n",
       "  </thead>\n",
       "  <tbody>\n",
       "    <tr>\n",
       "      <th>2</th>\n",
       "      <td>1</td>\n",
       "      <td>1</td>\n",
       "      <td>2</td>\n",
       "      <td>0</td>\n",
       "      <td>1</td>\n",
       "      <td>0.22</td>\n",
       "      <td>0.80</td>\n",
       "      <td>3.465736</td>\n",
       "      <td>3.688879</td>\n",
       "      <td>2.772589</td>\n",
       "    </tr>\n",
       "    <tr>\n",
       "      <th>3</th>\n",
       "      <td>1</td>\n",
       "      <td>1</td>\n",
       "      <td>3</td>\n",
       "      <td>0</td>\n",
       "      <td>1</td>\n",
       "      <td>0.24</td>\n",
       "      <td>0.75</td>\n",
       "      <td>2.564949</td>\n",
       "      <td>3.465736</td>\n",
       "      <td>3.688879</td>\n",
       "    </tr>\n",
       "    <tr>\n",
       "      <th>4</th>\n",
       "      <td>1</td>\n",
       "      <td>1</td>\n",
       "      <td>4</td>\n",
       "      <td>0</td>\n",
       "      <td>1</td>\n",
       "      <td>0.24</td>\n",
       "      <td>0.75</td>\n",
       "      <td>0.000000</td>\n",
       "      <td>2.564949</td>\n",
       "      <td>3.465736</td>\n",
       "    </tr>\n",
       "    <tr>\n",
       "      <th>5</th>\n",
       "      <td>1</td>\n",
       "      <td>1</td>\n",
       "      <td>5</td>\n",
       "      <td>0</td>\n",
       "      <td>2</td>\n",
       "      <td>0.24</td>\n",
       "      <td>0.75</td>\n",
       "      <td>0.000000</td>\n",
       "      <td>0.000000</td>\n",
       "      <td>2.564949</td>\n",
       "    </tr>\n",
       "    <tr>\n",
       "      <th>6</th>\n",
       "      <td>1</td>\n",
       "      <td>1</td>\n",
       "      <td>6</td>\n",
       "      <td>0</td>\n",
       "      <td>1</td>\n",
       "      <td>0.22</td>\n",
       "      <td>0.80</td>\n",
       "      <td>0.693147</td>\n",
       "      <td>0.000000</td>\n",
       "      <td>0.000000</td>\n",
       "    </tr>\n",
       "  </tbody>\n",
       "</table>\n",
       "</div>"
      ],
      "text/plain": [
       "   season  month  hour  holiday  weather  temp  humidity    demand        t1  \\\n",
       "2       1      1     2        0        1  0.22      0.80  3.465736  3.688879   \n",
       "3       1      1     3        0        1  0.24      0.75  2.564949  3.465736   \n",
       "4       1      1     4        0        1  0.24      0.75  0.000000  2.564949   \n",
       "5       1      1     5        0        2  0.24      0.75  0.000000  0.000000   \n",
       "6       1      1     6        0        1  0.22      0.80  0.693147  0.000000   \n",
       "\n",
       "         t2  \n",
       "2  2.772589  \n",
       "3  3.688879  \n",
       "4  3.465736  \n",
       "5  2.564949  \n",
       "6  0.000000  "
      ]
     },
     "execution_count": 298,
     "metadata": {},
     "output_type": "execute_result"
    }
   ],
   "source": [
    "demand_t1= bike_prepro_nr['demand'].shift(+1).to_frame()\n",
    "demand_t1.columns = ['t1']\n",
    "demand_t2= bike_prepro_nr['demand'].shift(+2).to_frame()\n",
    "demand_t2.columns = ['t2']\n",
    "demand_t3= bike_prepro_nr['demand'].shift(+3).to_frame()\n",
    "demand_t3.columns = ['t3']\n",
    "\n",
    "bike_prepro1 = pd.concat([bike_prepro_nr,demand_t1,demand_t2,demand_t3],axis=1)\n",
    "\n",
    "\n",
    "bike_prepro1=bike_prepro1.dropna()\n",
    "bike_prepro1.head()"
   ]
  },
  {
   "cell_type": "code",
   "execution_count": null,
   "id": "infrared-replica",
   "metadata": {},
   "outputs": [],
   "source": []
  },
  {
   "cell_type": "markdown",
   "id": "senior-republic",
   "metadata": {},
   "source": [
    "## 6. Create dummy variable for categorical features"
   ]
  },
  {
   "cell_type": "code",
   "execution_count": 299,
   "id": "familiar-pencil",
   "metadata": {},
   "outputs": [
    {
     "data": {
      "text/plain": [
       "temp         0\n",
       "humidity     0\n",
       "demand       0\n",
       "t1           0\n",
       "t2           0\n",
       "season_2     0\n",
       "season_3     0\n",
       "season_4     0\n",
       "month_2      0\n",
       "month_3      0\n",
       "month_4      0\n",
       "month_5      0\n",
       "month_6      0\n",
       "month_7      0\n",
       "month_8      0\n",
       "month_9      0\n",
       "month_10     0\n",
       "month_11     0\n",
       "month_12     0\n",
       "hour_1       0\n",
       "hour_2       0\n",
       "hour_3       0\n",
       "hour_4       0\n",
       "hour_5       0\n",
       "hour_6       0\n",
       "hour_7       0\n",
       "hour_8       0\n",
       "hour_9       0\n",
       "hour_10      0\n",
       "hour_11      0\n",
       "hour_12      0\n",
       "hour_13      0\n",
       "hour_14      0\n",
       "hour_15      0\n",
       "hour_16      0\n",
       "hour_17      0\n",
       "hour_18      0\n",
       "hour_19      0\n",
       "hour_20      0\n",
       "hour_21      0\n",
       "hour_22      0\n",
       "hour_23      0\n",
       "holiday_1    0\n",
       "weather_2    0\n",
       "weather_3    0\n",
       "weather_4    0\n",
       "dtype: int64"
      ]
     },
     "execution_count": 299,
     "metadata": {},
     "output_type": "execute_result"
    }
   ],
   "source": [
    "bike_prepro1['season'] = bike_prepro1['season'].astype('category')\n",
    "bike_prepro1['month'] = bike_prepro1['month'].astype('category')\n",
    "bike_prepro1['hour'] = bike_prepro1['hour'].astype('category')\n",
    "bike_prepro1['holiday'] = bike_prepro1['holiday'].astype('category')\n",
    "bike_prepro1['weather'] = bike_prepro1['weather'].astype('category')\n",
    "\n",
    "bike_prepro1 = pd.get_dummies(bike_prepro1, drop_first=True)\n",
    "bike_prepro1.isnull().sum()"
   ]
  },
  {
   "cell_type": "raw",
   "id": "enormous-naples",
   "metadata": {},
   "source": [
    "Dropping first column on each cagorical features to avoid dummy variables trap"
   ]
  },
  {
   "cell_type": "markdown",
   "id": "colonial-demonstration",
   "metadata": {},
   "source": [
    "## 7.  Create Train test split data set"
   ]
  },
  {
   "cell_type": "markdown",
   "id": "apart-danger",
   "metadata": {},
   "source": [
    "In this case , we wouldn't split data set using library scikit-learn to split random by the demand. demand variable is time-series type of data, we will split by the time-series with ratio 70:30, it means 70 first of the data and 30 end of the data"
   ]
  },
  {
   "cell_type": "code",
   "execution_count": 300,
   "id": "handled-impact",
   "metadata": {},
   "outputs": [
    {
     "name": "stdout",
     "output_type": "stream",
     "text": [
      "float64\n",
      "temp         float64\n",
      "humidity     float64\n",
      "t1           float64\n",
      "t2           float64\n",
      "season_2       uint8\n",
      "season_3       uint8\n",
      "season_4       uint8\n",
      "month_2        uint8\n",
      "month_3        uint8\n",
      "month_4        uint8\n",
      "month_5        uint8\n",
      "month_6        uint8\n",
      "month_7        uint8\n",
      "month_8        uint8\n",
      "month_9        uint8\n",
      "month_10       uint8\n",
      "month_11       uint8\n",
      "month_12       uint8\n",
      "hour_1         uint8\n",
      "hour_2         uint8\n",
      "hour_3         uint8\n",
      "hour_4         uint8\n",
      "hour_5         uint8\n",
      "hour_6         uint8\n",
      "hour_7         uint8\n",
      "hour_8         uint8\n",
      "hour_9         uint8\n",
      "hour_10        uint8\n",
      "hour_11        uint8\n",
      "hour_12        uint8\n",
      "hour_13        uint8\n",
      "hour_14        uint8\n",
      "hour_15        uint8\n",
      "hour_16        uint8\n",
      "hour_17        uint8\n",
      "hour_18        uint8\n",
      "hour_19        uint8\n",
      "hour_20        uint8\n",
      "hour_21        uint8\n",
      "hour_22        uint8\n",
      "hour_23        uint8\n",
      "holiday_1      uint8\n",
      "weather_2      uint8\n",
      "weather_3      uint8\n",
      "weather_4      uint8\n",
      "dtype: object\n"
     ]
    }
   ],
   "source": [
    "Y = bike_prepro1['demand']\n",
    "X = bike_prepro1.drop(['demand'],axis=1)\n",
    "print(Y.dtypes)\n",
    "print(X.dtypes)\n",
    "\n",
    "tr_size = 0.7 * len(X)\n",
    "tr_size = int(tr_size)\n",
    "\n",
    "x_train = X.values[0 : tr_size]\n",
    "x_test = X.values[tr_size : len(X)]\n",
    "\n",
    "y_train = Y.values[0 : tr_size]\n",
    "y_test = Y.values[tr_size : len(Y)]\n"
   ]
  },
  {
   "cell_type": "markdown",
   "id": "straight-weight",
   "metadata": {},
   "source": [
    "## 8. Training and Score Model"
   ]
  },
  {
   "cell_type": "code",
   "execution_count": 301,
   "id": "sitting-adrian",
   "metadata": {},
   "outputs": [
    {
     "name": "stdout",
     "output_type": "stream",
     "text": [
      "train score : 0.914867753381338\n",
      "test score : 0.9275483132794007\n"
     ]
    }
   ],
   "source": [
    "regress = LinearRegression()\n",
    "\n",
    "regress.fit(x_train,y_train)\n",
    "\n",
    "tr_score = regress.score(x_train,y_train)\n",
    "ts_score = regress.score(x_test,y_test)\n",
    "\n",
    "print(\"train score : \"+str(tr_score))\n",
    "print(\"test score : \"+str(ts_score))"
   ]
  },
  {
   "cell_type": "markdown",
   "id": "rubber-fruit",
   "metadata": {},
   "source": [
    "#### Calculate Root Mean Squared Error"
   ]
  },
  {
   "cell_type": "code",
   "execution_count": 302,
   "id": "dried-meditation",
   "metadata": {},
   "outputs": [
    {
     "name": "stdout",
     "output_type": "stream",
     "text": [
      "Root Mean Squared Error : 0.38406838694321416\n"
     ]
    }
   ],
   "source": [
    "y_predict = regress.predict(x_test)\n",
    "\n",
    "RMSE = math.sqrt(mean_squared_error(y_test,y_predict))\n",
    "print(\"Root Mean Squared Error : \"+str(RMSE))"
   ]
  },
  {
   "cell_type": "markdown",
   "id": "second-running",
   "metadata": {},
   "source": [
    "#### Calculate RMSLE and compare result"
   ]
  },
  {
   "cell_type": "code",
   "execution_count": 303,
   "id": "continental-checklist",
   "metadata": {},
   "outputs": [
    {
     "name": "stdout",
     "output_type": "stream",
     "text": [
      "0.358282411260374\n"
     ]
    }
   ],
   "source": [
    "y_test_e = []\n",
    "y_predict_e = []\n",
    "\n",
    "for i in range(0, len(y_test)):\n",
    "    y_test_e.append(math.exp(y_test[i]))\n",
    "    y_predict_e.append(math.exp(y_predict[i]))\n",
    "log_sq_sum = 0.0\n",
    "\n",
    "for i in range(0, len(y_test_e)):\n",
    "    log_a = math.log(y_test_e[i] + 1)\n",
    "    log_p = math.log(y_predict_e[i] + 1)\n",
    "    log_diff = (log_p - log_a)**2\n",
    "    log_sq_sum = log_sq_sum + log_diff\n",
    "\n",
    "rmsle = math.sqrt(log_sq_sum/len(y_test))\n",
    "\n",
    "print(rmsle)"
   ]
  },
  {
   "cell_type": "code",
   "execution_count": null,
   "id": "static-peeing",
   "metadata": {},
   "outputs": [],
   "source": []
  }
 ],
 "metadata": {
  "kernelspec": {
   "display_name": "Python 3",
   "language": "python",
   "name": "python3"
  },
  "language_info": {
   "codemirror_mode": {
    "name": "ipython",
    "version": 3
   },
   "file_extension": ".py",
   "mimetype": "text/x-python",
   "name": "python",
   "nbconvert_exporter": "python",
   "pygments_lexer": "ipython3",
   "version": "3.8.5"
  }
 },
 "nbformat": 4,
 "nbformat_minor": 5
}
